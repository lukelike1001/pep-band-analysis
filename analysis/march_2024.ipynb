{
 "cells": [
  {
   "cell_type": "markdown",
   "metadata": {},
   "source": [
    "### **March 2024 Duke University Pep Band Analysis**"
   ]
  },
  {
   "cell_type": "markdown",
   "metadata": {},
   "source": [
    "**Importing Libraries**<br>\n",
    "Prior to running our code, we need to import libraries and our data files."
   ]
  },
  {
   "cell_type": "code",
   "execution_count": 19,
   "metadata": {},
   "outputs": [],
   "source": [
    "import pandas as pd"
   ]
  },
  {
   "cell_type": "markdown",
   "metadata": {},
   "source": [
    "**Song Frequency**<br>\n",
    "Let's check how many times each song was played in March 2024. First, we need to define a function that can find the song frequency."
   ]
  },
  {
   "cell_type": "code",
   "execution_count": 20,
   "metadata": {},
   "outputs": [],
   "source": [
    "\"\"\"\n",
    "find_song_frequency function\n",
    "\n",
    "Input:  input_path = String filepath of the Pep Band csv file\n",
    "Output: freqs      = Dictionary that tracks frequencies of all songs played\n",
    "\n",
    "\"\"\"\n",
    "def find_song_frequency(input_path: str):\n",
    "    \n",
    "    # store the frequencies of each song played in a dictionary\n",
    "    # where the key = song name, and value = frequency\n",
    "    freqs = dict()\n",
    "    \n",
    "    with open(input_path, \"r\") as input_file:\n",
    "        next(input_file, None) # skip the header\n",
    "        \n",
    "        for line in input_file:\n",
    "            row = line.split(\",\")\n",
    "            \n",
    "            # for each song, add it to the frequency\n",
    "            song = row[3]\n",
    "            if song not in freqs:\n",
    "                freqs[song] = 1\n",
    "            else:\n",
    "                freqs[song] += 1\n",
    "    \n",
    "    return freqs"
   ]
  },
  {
   "cell_type": "markdown",
   "metadata": {},
   "source": [
    "Now that we have defined the function, we can find the song statistics."
   ]
  },
  {
   "cell_type": "code",
   "execution_count": 21,
   "metadata": {},
   "outputs": [],
   "source": [
    "INPUT_FILEPATH = \"../data/DUMB Pep Band Song Statistics - March 2024.csv\"\n",
    "freqs = find_song_frequency(INPUT_FILEPATH)"
   ]
  },
  {
   "cell_type": "markdown",
   "metadata": {},
   "source": [
    "We can first check how many songs we played in the entirety of March 2024."
   ]
  },
  {
   "cell_type": "code",
   "execution_count": 22,
   "metadata": {},
   "outputs": [
    {
     "name": "stdout",
     "output_type": "stream",
     "text": [
      "In March 2024, the Duke University Pep Band played 138 times.\n"
     ]
    }
   ],
   "source": [
    "TOTAL_COUNT = sum(freqs.values())\n",
    "print(f\"In March 2024, the Duke University Pep Band played {TOTAL_COUNT} times.\")"
   ]
  },
  {
   "cell_type": "markdown",
   "metadata": {},
   "source": [
    "After finding the total, let's break down the results by song name. I sort the results based in decreasing frequency."
   ]
  },
  {
   "cell_type": "code",
   "execution_count": 23,
   "metadata": {},
   "outputs": [],
   "source": [
    "# set a buffer for how many long all the \"song_name\" entries should be\n",
    "BUFFER = 30"
   ]
  },
  {
   "cell_type": "code",
   "execution_count": 24,
   "metadata": {},
   "outputs": [
    {
     "name": "stdout",
     "output_type": "stream",
     "text": [
      "In March 2024, the Duke University Pep Band has played:\n",
      "Blue & White                   20 times\n",
      "Can't                          17 times\n",
      "Fight Fight                    12 times\n",
      "Devil                          10 times\n",
      "Zing It!                       8 times\n",
      "Overpass                       7 times\n",
      "That's What I Want             6 times\n",
      "Everytime                      6 times\n",
      "Love from the Other Side       5 times\n",
      "Dance the Night                5 times\n",
      "Runaway Baby                   4 times\n",
      "Scream                         3 times\n",
      "Uma Thurman                    3 times\n",
      "good 4 business                3 times\n",
      "Pumpkin                        3 times\n",
      "The Star-Spangled Banner       2 times\n",
      "Raise Your Glass               2 times\n",
      "Vehicle                        2 times\n",
      "Dear Old Duke                  2 times\n",
      "Sail                           2 times\n",
      "That That                      1 times\n",
      "Crazy in Love                  1 times\n",
      "Break Your Heart               1 times\n",
      "Get It On                      1 times\n",
      "Rock Lobster                   1 times\n",
      "Stacy's Mom                    1 times\n",
      "About Damn Time                1 times\n",
      "Fat                            1 times\n",
      "Love Runs Out                  1 times\n",
      "Potential Breakup Song         1 times\n",
      "Lucky Strike                   1 times\n",
      "Mortal                         1 times\n",
      "Spell                          1 times\n",
      "Wipeout                        1 times\n",
      "D. Ditty                       1 times\n",
      "Industry Baby                  1 times\n"
     ]
    }
   ],
   "source": [
    "print(f\"In March 2024, the Duke University Pep Band has played:\")\n",
    "for song_name in sorted(freqs, key=lambda x: -freqs[x]):\n",
    "    print(f\"{song_name.ljust(BUFFER)} {freqs[song_name]} times\")"
   ]
  },
  {
   "cell_type": "markdown",
   "metadata": {},
   "source": [
    "**FlipFolder Frequency**<br>\n",
    "Let's see what percentage of songs in the FlipFolder were played in March 2024."
   ]
  },
  {
   "cell_type": "code",
   "execution_count": 25,
   "metadata": {},
   "outputs": [],
   "source": [
    "TOTAL_FLIPFOLDER_SONGS = 96"
   ]
  },
  {
   "cell_type": "code",
   "execution_count": 26,
   "metadata": {},
   "outputs": [
    {
     "name": "stdout",
     "output_type": "stream",
     "text": [
      "36/96 songs in the FlipFolder have been played in March 2024.\n"
     ]
    }
   ],
   "source": [
    "print(f\"{len(freqs.keys())}/{TOTAL_FLIPFOLDER_SONGS} songs in the FlipFolder have been played in March 2024.\")"
   ]
  },
  {
   "cell_type": "markdown",
   "metadata": {},
   "source": [
    "**Fight vs Non-Fight Songs**<br>\n",
    "What percentage of the songs played were fight songs? The Duke University Pep Band has the following fight songs:\n",
    "\n",
    "- Fight Fight\n",
    "- Blue & White\n",
    "- Zing It!\n",
    "- Devil\n",
    "- Can't\n",
    "- Dear Old Duke\n"
   ]
  },
  {
   "cell_type": "markdown",
   "metadata": {},
   "source": [
    "We can identify fight songs using a set."
   ]
  },
  {
   "cell_type": "code",
   "execution_count": 27,
   "metadata": {},
   "outputs": [],
   "source": [
    "fight_songs = {\"Fight Fight\", \"Blue & White\", \"Zing It!\", \"Devil\", \"Can't\", \"Dear Old Duke\"}"
   ]
  },
  {
   "cell_type": "markdown",
   "metadata": {},
   "source": [
    "We can define a function to count the number of fight songs."
   ]
  },
  {
   "cell_type": "code",
   "execution_count": 28,
   "metadata": {},
   "outputs": [],
   "source": [
    "\"\"\"\n",
    "count_fight_songs function\n",
    "\n",
    "Input:  freqs       = Dictionary that tracks frequencies of all songs played\n",
    "        fight_songs = Set of fight song string names\n",
    "Output: count       = Integer representing fight song playing count\n",
    "\n",
    "\"\"\"\n",
    "def count_fight_songs(freqs: dict, fight_songs: set):\n",
    "    \n",
    "    # store the number of times that fights songs have been played\n",
    "    count = 0\n",
    "    \n",
    "    # go through each song in the frequency dict\n",
    "    for song_name in freqs:\n",
    "        if song_name in fight_songs:\n",
    "            count += freqs[song_name]\n",
    "    \n",
    "    # return the count once calculated\n",
    "    return count"
   ]
  },
  {
   "cell_type": "markdown",
   "metadata": {},
   "source": [
    "We can now check the number of times that fight songs were played."
   ]
  },
  {
   "cell_type": "code",
   "execution_count": 29,
   "metadata": {},
   "outputs": [
    {
     "name": "stdout",
     "output_type": "stream",
     "text": [
      "In March 2024, 69/138 songs were fight songs.\n"
     ]
    }
   ],
   "source": [
    "FIGHT_SONG_COUNT = count_fight_songs(freqs, fight_songs)\n",
    "TOTAL_COUNT = sum(freqs.values())\n",
    "\n",
    "print(f\"In March 2024, {FIGHT_SONG_COUNT}/{TOTAL_COUNT} songs were fight songs.\")"
   ]
  },
  {
   "cell_type": "markdown",
   "metadata": {},
   "source": [
    "From this, we can conclude that these 6 songs make up a whopping 69/138 (50%) of the pieces played!"
   ]
  }
 ],
 "metadata": {
  "kernelspec": {
   "display_name": ".venv",
   "language": "python",
   "name": "python3"
  },
  "language_info": {
   "codemirror_mode": {
    "name": "ipython",
    "version": 3
   },
   "file_extension": ".py",
   "mimetype": "text/x-python",
   "name": "python",
   "nbconvert_exporter": "python",
   "pygments_lexer": "ipython3",
   "version": "3.9.6"
  }
 },
 "nbformat": 4,
 "nbformat_minor": 2
}
