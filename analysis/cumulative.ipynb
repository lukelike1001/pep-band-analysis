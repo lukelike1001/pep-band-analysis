{
 "cells": [
  {
   "cell_type": "markdown",
   "metadata": {},
   "source": [
    "### **Cumulative Duke University Pep Band Analysis**"
   ]
  },
  {
   "cell_type": "markdown",
   "metadata": {},
   "source": [
    "**Importing Libraries**<br>\n",
    "Prior to running our code, we need to import libraries and our data files."
   ]
  },
  {
   "cell_type": "code",
   "execution_count": 1,
   "metadata": {},
   "outputs": [],
   "source": [
    "import pandas as pd\n",
    "import os"
   ]
  },
  {
   "cell_type": "markdown",
   "metadata": {},
   "source": [
    "**Set the Start Date**<br>\n",
    "Write a note that says when songs have started being tracked."
   ]
  },
  {
   "cell_type": "code",
   "execution_count": 2,
   "metadata": {},
   "outputs": [],
   "source": [
    "start_date = \"02/01/24\""
   ]
  },
  {
   "cell_type": "markdown",
   "metadata": {},
   "source": [
    "**Importing Data**<br>\n",
    "Prior to running our code, we'll merge all the song data by combining them all into one file."
   ]
  },
  {
   "cell_type": "code",
   "execution_count": 3,
   "metadata": {},
   "outputs": [],
   "source": [
    "# access all the CSV files from the input data folder\n",
    "INPUT_DIRECTORY = \"../data/semester/\"\n",
    "OUTPUT_PATH = \"../data/cumulative/\"\n",
    "OUTPUT_FILENAME = 'Duke Band Song Statistics - Cumulative.csv'\n",
    "dataframes = []\n",
    "\n",
    "# loop through the CSV files to create pandas dataframes of them\n",
    "for filename in os.listdir(INPUT_DIRECTORY):\n",
    "    if filename.endswith(\".csv\"):\n",
    "        filepath = os.path.join(INPUT_DIRECTORY, filename)\n",
    "        df = pd.read_csv(filepath)\n",
    "        dataframes.append(df)\n",
    "        \n",
    "# merge the dataframes together and store the cumulative result\n",
    "merged_df = pd.concat(dataframes, ignore_index=True)"
   ]
  },
  {
   "cell_type": "markdown",
   "metadata": {},
   "source": [
    "Let's sort the merged data by date."
   ]
  },
  {
   "cell_type": "code",
   "execution_count": 4,
   "metadata": {},
   "outputs": [],
   "source": [
    "# sorted_by_name_df = merged_df.sort_values(by=['Opponent', 'Event'], key=find_name)\n",
    "sorted_by_date_df = merged_df.sort_values(by='Date')\n",
    "sorted_by_date_df.to_csv(os.path.join(OUTPUT_PATH, OUTPUT_FILENAME), index=False)"
   ]
  },
  {
   "cell_type": "markdown",
   "metadata": {},
   "source": [
    "**Song Frequency**<br>\n",
    "Let's check how many times each song was played since records started in February 2024. First, we need to define a function that can find the song frequency."
   ]
  },
  {
   "cell_type": "code",
   "execution_count": 5,
   "metadata": {},
   "outputs": [],
   "source": [
    "\"\"\"\n",
    "find_song_frequency function\n",
    "\n",
    "Input:  input_path = String filepath of the Pep Band csv file\n",
    "Output: freqs      = Dictionary that tracks frequencies of all songs played\n",
    "\n",
    "\"\"\"\n",
    "def find_song_frequency(input_path: str):\n",
    "    \n",
    "    # store the frequencies of each song played in a dictionary\n",
    "    # where the key = song name, and value = frequency\n",
    "    freqs = dict()\n",
    "    \n",
    "    with open(input_path, \"r\") as input_file:\n",
    "        next(input_file, None) # skip the header\n",
    "        \n",
    "        for line in input_file:\n",
    "            row = line.split(\",\")\n",
    "            \n",
    "            # for each song, add it to the frequency\n",
    "            song = row[3]\n",
    "            if song not in freqs:\n",
    "                freqs[song] = 1\n",
    "            else:\n",
    "                freqs[song] += 1\n",
    "    \n",
    "    return freqs"
   ]
  },
  {
   "cell_type": "markdown",
   "metadata": {},
   "source": [
    "Now that we have defined the function, we can find the song statistics."
   ]
  },
  {
   "cell_type": "code",
   "execution_count": 24,
   "metadata": {},
   "outputs": [],
   "source": [
    "INPUT_FILEPATH = \"../data/cumulative/Duke Band Song Statistics - Cumulative.csv\"\n",
    "freqs = find_song_frequency(INPUT_FILEPATH)"
   ]
  },
  {
   "cell_type": "markdown",
   "metadata": {},
   "source": [
    "We can first check how many songs we played in the entirety of February 2024."
   ]
  },
  {
   "cell_type": "code",
   "execution_count": 25,
   "metadata": {},
   "outputs": [
    {
     "name": "stdout",
     "output_type": "stream",
     "text": [
      "Since 02/01/24, the Duke University Pep Band has played at least 1000 times.\n"
     ]
    }
   ],
   "source": [
    "TOTAL_COUNT = sum(freqs.values())\n",
    "print(f\"Since {start_date}, the Duke University Pep Band has played at least {TOTAL_COUNT} times.\")"
   ]
  },
  {
   "cell_type": "markdown",
   "metadata": {},
   "source": [
    "After finding the total, let's break down the results by song name. I sort the results based in decreasing frequency."
   ]
  },
  {
   "cell_type": "code",
   "execution_count": 26,
   "metadata": {},
   "outputs": [],
   "source": [
    "# set a buffer for how many long all the \"song_name\" entries should be\n",
    "BUFFER = 30"
   ]
  },
  {
   "cell_type": "code",
   "execution_count": 27,
   "metadata": {},
   "outputs": [
    {
     "name": "stdout",
     "output_type": "stream",
     "text": [
      "Since 02/01/24, the Duke University Pep Band has played:\n",
      "Blue & White                   124 times\n",
      "Fight Fight (Intro)            103 times\n",
      "Devil                          80 times\n",
      "Fight Fight                    67 times\n",
      "Zing It!                       52 times\n",
      "Can't                          49 times\n",
      "Everytime                      32 times\n",
      "Dear Old Duke                  32 times\n",
      "The Whip                       31 times\n",
      "That's What I Want             29 times\n",
      "Pumpkin                        28 times\n",
      "Dance the Night                26 times\n",
      "Runaway Baby                   25 times\n",
      "Uma Thurman                    22 times\n",
      "Overpass                       19 times\n",
      "Sail                           18 times\n",
      "Mortal                         15 times\n",
      "That That                      15 times\n",
      "Spell                          13 times\n",
      "Wipeout                        13 times\n",
      "Love from the Other Side       12 times\n",
      "HOT TO GO!                     12 times\n",
      "Lucky Strike                   11 times\n",
      "Uptown Funk                    10 times\n",
      "D. Ditty                       9 times\n",
      "DJamite                        9 times\n",
      "Scream                         9 times\n",
      "Star Spangled Banner           9 times\n",
      "T. gogo                        8 times\n",
      "Raise Your Glass               8 times\n",
      "Fight Fight (Post-Intro)       6 times\n",
      "Bad Romance                    6 times\n",
      "About Damn Time                6 times\n",
      "Somebody Told Me               6 times\n",
      "Freedom                        6 times\n",
      "Applause                       6 times\n",
      "Vehicle                        5 times\n",
      "Potential Breakup Song         5 times\n",
      "Stacy's Mom                    5 times\n",
      "good 4 business                5 times\n",
      "Love Runs Out                  5 times\n",
      "Locked Out of Heaven           4 times\n",
      "Fat                            4 times\n",
      "Break Your Heart               4 times\n",
      "Please Please Please           4 times\n",
      "Sucker                         3 times\n",
      "Industry Baby                  3 times\n",
      "Seven Nation                   3 times\n",
      "Fire                           2 times\n",
      "Animal                         2 times\n",
      "Igor's Theme                   2 times\n",
      "The Star-Spangled Banner       2 times\n",
      "Rock Lobster                   2 times\n",
      "Million Dollar Baby            2 times\n",
      "Calabria                       2 times\n",
      "Chameleon                      1 times\n",
      "Ms. Jackson                    1 times\n",
      "Disturbia                      1 times\n",
      "Crazy in Love                  1 times\n",
      "Get It On                      1 times\n",
      "Pompeii                        1 times\n",
      "Elon University Fight Song     1 times\n",
      "UConn Husky                    1 times\n",
      "FSU Fight Song                 1 times\n",
      "Die with a Smile               1 times\n"
     ]
    }
   ],
   "source": [
    "print(f\"Since {start_date}, the Duke University Pep Band has played:\")\n",
    "for song_name in sorted(freqs, key=lambda x: -freqs[x]):\n",
    "    print(f\"{song_name.ljust(BUFFER)} {freqs[song_name]} times\")"
   ]
  },
  {
   "cell_type": "markdown",
   "metadata": {},
   "source": [
    "**FlipFolder Frequency**<br>\n",
    "Let's see what percentage of songs in the FlipFolder were played in February 2024. Note that \"D. Ditty\", \"t.gogo\", \"Pumpkin\", and \"Fight Fight (Intro)\" are not considered FlipFolder songs, as they do not have FlipFolder entries. We also have to ignore instances where we play fight songs for the away team. For the 2024-25 Football Season, these songs are \"Elon University Fight Song,\" \"UConn Husky\", \"FSU Fight Song\"."
   ]
  },
  {
   "cell_type": "code",
   "execution_count": 28,
   "metadata": {},
   "outputs": [],
   "source": [
    "TOTAL_FLIPFOLDER_SONGS = 100\n",
    "NON_FLIPFOLDER_SONGS = 4\n",
    "AWAY_FIGHT_SONGS = 3"
   ]
  },
  {
   "cell_type": "code",
   "execution_count": 29,
   "metadata": {},
   "outputs": [
    {
     "name": "stdout",
     "output_type": "stream",
     "text": [
      "Since 02/01/24, 58/100 songs in the FlipFolder have been played.\n"
     ]
    }
   ],
   "source": [
    "ACTIVE_SONGS = len(freqs.keys())-NON_FLIPFOLDER_SONGS-AWAY_FIGHT_SONGS\n",
    "print(f\"Since {start_date}, {ACTIVE_SONGS}/{TOTAL_FLIPFOLDER_SONGS} songs in the FlipFolder have been played.\")"
   ]
  },
  {
   "cell_type": "markdown",
   "metadata": {},
   "source": [
    "**Fight vs Non-Fight Songs**<br>\n",
    "What percentage of the songs played were fight songs? The Duke University Pep Band has the following fight songs:\n",
    "\n",
    "- Fight Fight\n",
    "- Blue & White\n",
    "- Zing It!\n",
    "- Devil\n",
    "- Can't\n",
    "- Dear Old Duke\n"
   ]
  },
  {
   "cell_type": "markdown",
   "metadata": {},
   "source": [
    "We can identify fight songs using a set."
   ]
  },
  {
   "cell_type": "code",
   "execution_count": 30,
   "metadata": {},
   "outputs": [],
   "source": [
    "fight_songs = {\"Fight Fight\", \"Fight Fight (Intro)\", \"Blue & White\", \"Zing It!\",\n",
    "               \"Devil\", \"Can't\", \"Dear Old Duke\"}"
   ]
  },
  {
   "cell_type": "markdown",
   "metadata": {},
   "source": [
    "We can define a function to count the number of fight songs."
   ]
  },
  {
   "cell_type": "code",
   "execution_count": 31,
   "metadata": {},
   "outputs": [],
   "source": [
    "\"\"\"\n",
    "count_fight_songs function\n",
    "\n",
    "Input:  freqs       = Dictionary that tracks frequencies of all songs played\n",
    "        fight_songs = Set of fight song string names\n",
    "Output: count       = Integer representing fight song playing count\n",
    "\n",
    "\"\"\"\n",
    "def count_fight_songs(freqs: dict, fight_songs: set):\n",
    "    \n",
    "    # store the number of times that fights songs have been played\n",
    "    count = 0\n",
    "    \n",
    "    # go through each song in the frequency dict\n",
    "    for song_name in freqs:\n",
    "        if song_name in fight_songs:\n",
    "            count += freqs[song_name]\n",
    "    \n",
    "    # return the count once calculated\n",
    "    return count"
   ]
  },
  {
   "cell_type": "markdown",
   "metadata": {},
   "source": [
    "We can now check the number of times that fight songs were played."
   ]
  },
  {
   "cell_type": "code",
   "execution_count": 32,
   "metadata": {},
   "outputs": [
    {
     "name": "stdout",
     "output_type": "stream",
     "text": [
      "Since 02/01/24, 507/1000 songs that were played were fight songs.\n"
     ]
    }
   ],
   "source": [
    "FIGHT_SONG_COUNT = count_fight_songs(freqs, fight_songs)\n",
    "TOTAL_COUNT = sum(freqs.values())\n",
    "\n",
    "print(f\"Since {start_date}, {FIGHT_SONG_COUNT}/{TOTAL_COUNT} songs that were played were fight songs.\")"
   ]
  },
  {
   "cell_type": "markdown",
   "metadata": {},
   "source": [
    "From this, we can conclude that these 6 songs make up a whopping 308/581 (~53.01%) of the pieces played!"
   ]
  },
  {
   "cell_type": "markdown",
   "metadata": {},
   "source": [
    "**Songs by Date**<br>\n",
    "On what day was the least number of songs played? On what day was the most played?"
   ]
  },
  {
   "cell_type": "code",
   "execution_count": 33,
   "metadata": {},
   "outputs": [],
   "source": [
    "\"\"\"\n",
    "find_number_of_songs_by_date function\n",
    "\n",
    "Input:  input_path = String filepath of the Pep Band csv file\n",
    "Output: freqs      = Dictionary that tracks number of songs played by date\n",
    "\n",
    "\"\"\"\n",
    "def find_number_of_songs_by_date(input_path: str):\n",
    "    \n",
    "    # store the number of songs played by date\n",
    "    # where the key = game date, and value = number of songs played\n",
    "    dates = dict()\n",
    "    \n",
    "    # store the current date of records\n",
    "    curr_date = \"\"\n",
    "    \n",
    "    with open(input_path, \"r\") as input_file:\n",
    "        next(input_file, None) # skip the header\n",
    "        \n",
    "        for line in input_file:\n",
    "            row = line.split(\",\")\n",
    "            \n",
    "            # update dates if the value isn't null\n",
    "            curr_date = row[0]\n",
    "            if len(row[9]) == 1:\n",
    "                curr_date = \" \".join(row[0:3])\n",
    "            else:\n",
    "                curr_date = \" \".join([row[0], row[9][:-1]])\n",
    "            \n",
    "            # increase the number of songs played at that date\n",
    "            if curr_date not in dates:\n",
    "                dates[curr_date] = 1\n",
    "            else:\n",
    "                dates[curr_date] += 1\n",
    "    \n",
    "    return dates"
   ]
  },
  {
   "cell_type": "markdown",
   "metadata": {},
   "source": [
    "First, find the number of songs played on each date. Then, output the results by printing them."
   ]
  },
  {
   "cell_type": "code",
   "execution_count": 34,
   "metadata": {},
   "outputs": [],
   "source": [
    "dates = find_number_of_songs_by_date(INPUT_FILEPATH)"
   ]
  },
  {
   "cell_type": "code",
   "execution_count": 35,
   "metadata": {},
   "outputs": [
    {
     "name": "stdout",
     "output_type": "stream",
     "text": [
      "Since 02/01/24, the Duke University Pep Band has played at these events:\n",
      "09/14/24 UConn FB                        49 times\n",
      "10/26/24 SMU FB                          46 times\n",
      "04/20/24 Duke FB                         45 times\n",
      "09/28/24 UNC FB                          45 times\n",
      "01/02/25 Ole Miss FB                     43 times\n",
      "11/23/24 Virginia Tech FB                43 times\n",
      "10/18/24 Florida State FB                41 times\n",
      "08/30/24 Elon FB                         38 times\n",
      "12/04/24 Auburn MBB                      38 times\n",
      "03/09/24 UNC MBB                         36 times\n",
      "10/19/24 Lincoln (Pa.) MBB               34 times\n",
      "11/16/24 Wofford MBB                     32 times\n",
      "02/07/24 Notre Dame MBB                  31 times\n",
      "02/10/24 Boston College MBB              30 times\n",
      "02/28/24 Louisville MBB                  30 times\n",
      "11/04/24 Maine MBB                       29 times\n",
      "12/10/24 Incarnate Word MBB              29 times\n",
      "10/04/24 Countdown to Craziness          27 times\n",
      "02/19/24 Notre Dame WBB                  26 times\n",
      "02/11/24 UNC WBB                         25 times\n",
      "02/29/24 Virginia WBB                    23 times\n",
      "02/08/24 Wake Forest WBB                 22 times\n",
      "11/01/24 Notre Dame Men's Soccer         22 times\n",
      "03/07/24 Georgia Tech WBB                20 times\n",
      "03/24/24 JMU MBB                         19 times\n",
      "11/14/24 Dayton WBB                      18 times\n",
      "03/14/24 NC State MBB                    17 times\n",
      "03/31/24 NC State MBB                    17 times\n",
      "09/29/24 Syracuse Field Hockey           17 times\n",
      "03/22/24 Vermont MBB                     16 times\n",
      "03/09/24 ESPN College GameDay            13 times\n",
      "03/29/24 Houston MBB                     13 times\n",
      "04/24/24 Roving Band                     12 times\n",
      "04/27/24 Lake Wheeler Invitational       9 times\n",
      "08/23/24 Class of 2028 Photo             9 times\n",
      "12/06/24 UNC WSOC Final Four             8 times\n",
      "01/01/25 Gator Bowl Pep Rally            7 times\n",
      "10/26/24 ACC Huddle                      6 times\n",
      "04/18/24 Blue Devil Days                 4 times\n",
      "04/19/24 Blue Devil Days                 4 times\n",
      "04/22/24 Blue Devil Days                 4 times\n",
      "04/12/24 Bricks to Stone                 3 times\n"
     ]
    }
   ],
   "source": [
    "BUFFER = 40\n",
    "print(f\"Since {start_date}, the Duke University Pep Band has played at these events:\")\n",
    "for curr_date in sorted(dates, key=lambda x: -dates[x]):\n",
    "    print(f\"{curr_date.ljust(BUFFER)} {dates[curr_date]} times\")"
   ]
  },
  {
   "cell_type": "code",
   "execution_count": 36,
   "metadata": {},
   "outputs": [
    {
     "name": "stdout",
     "output_type": "stream",
     "text": [
      "Since 02/01/24, over a total of 42 events, an average of 23.81 songs were played per event.\n"
     ]
    }
   ],
   "source": [
    "total_songs_played = sum(dates.values())\n",
    "number_of_events = len(dates.keys())\n",
    "avg_songs_per_game = total_songs_played / number_of_events\n",
    "\n",
    "print(f\"Since {start_date}, over a total of {number_of_events} events, an average of {avg_songs_per_game:.2f} songs were played per event.\")\n"
   ]
  },
  {
   "cell_type": "markdown",
   "metadata": {},
   "source": [
    "**Early Stops**<br>\n",
    "Let's count the number of songs stopped early."
   ]
  },
  {
   "cell_type": "code",
   "execution_count": 37,
   "metadata": {},
   "outputs": [],
   "source": [
    "\"\"\"\n",
    "find_early_stops function\n",
    "\n",
    "Input:  input_path  = String filepath of the Pep Band csv file\n",
    "Output: early_stops = Dictionary that tracks frequencies of songs stopped early\n",
    "\n",
    "\"\"\"\n",
    "def find_early_stops(input_path: str):\n",
    "    \n",
    "    # store the frequencies of each song stopped early in a dictionary\n",
    "    # where the key = song name, and value = early stop frequency\n",
    "    early_stops = dict()\n",
    "    \n",
    "    with open(input_path, \"r\") as input_file:\n",
    "        next(input_file, None) # skip the header\n",
    "        \n",
    "        for line in input_file:\n",
    "            row = line.split(\",\")\n",
    "            \n",
    "            # only track songs stopped early\n",
    "            if row[7] != \"Y\":\n",
    "                continue\n",
    "            \n",
    "            # update the frequency for early songs\n",
    "            song = row[3]\n",
    "            if song not in early_stops:\n",
    "                early_stops[song] = 1\n",
    "            else:\n",
    "                early_stops[song] += 1\n",
    "    \n",
    "    return early_stops"
   ]
  },
  {
   "cell_type": "code",
   "execution_count": 38,
   "metadata": {},
   "outputs": [
    {
     "name": "stdout",
     "output_type": "stream",
     "text": [
      "Since 02/01/24, the Duke University Pep Band has stopped early for these pieces:\n"
     ]
    }
   ],
   "source": [
    "early_stops = find_early_stops(INPUT_FILEPATH)\n",
    "print(f\"Since {start_date}, the Duke University Pep Band has stopped early for these pieces:\")\n",
    "for song_name in sorted(early_stops, key=lambda x: -early_stops[x]):\n",
    "    print(f\"{song_name.ljust(BUFFER)} {early_stops[song_name]} times\")"
   ]
  },
  {
   "cell_type": "markdown",
   "metadata": {},
   "source": [
    "**Periods**<br>\n",
    "Let's count the number of songs played during each period of the game."
   ]
  },
  {
   "cell_type": "code",
   "execution_count": 39,
   "metadata": {},
   "outputs": [],
   "source": [
    "\"\"\"\n",
    "find_by_period function\n",
    "\n",
    "Input:  input_path = String filepath of the Pep Band csv file\n",
    "Output: periods    = Dictionary that tracks songs by period played\n",
    "\n",
    "\"\"\"\n",
    "def find_by_period(input_path: str):\n",
    "    \n",
    "    # store the frequencies of each song played for each period in a dictionary\n",
    "    # where the key = song name, and value = period frequency\n",
    "    periods = dict()\n",
    "    \n",
    "    with open(input_path, \"r\") as input_file:\n",
    "        next(input_file, None) # skip the header\n",
    "        \n",
    "        for line in input_file:\n",
    "            row = line.split(\",\")\n",
    "            \n",
    "            \"\"\"\n",
    "            NOTE: I'm only filtering for football games here.\n",
    "            Remove this `if` statement if you don't want to do this.\n",
    "            \"\"\"\n",
    "            if row[2] != \"FB\":\n",
    "                continue\n",
    "            \n",
    "            # update the frequency for songs by period\n",
    "            p = row[4]\n",
    "            if p not in periods:\n",
    "                periods[p] = 1\n",
    "            else:\n",
    "                periods[p] += 1\n",
    "    \n",
    "    return periods"
   ]
  },
  {
   "cell_type": "code",
   "execution_count": 40,
   "metadata": {},
   "outputs": [
    {
     "name": "stdout",
     "output_type": "stream",
     "text": [
      "Since 02/01/24, the Duke University Pep Band has played by period:\n",
      "4Q                                       92 times\n",
      "Pregame                                  67 times\n",
      "3Q                                       48 times\n",
      "2Q                                       46 times\n",
      "1Q                                       37 times\n",
      "Halftime                                 26 times\n",
      "Devil Walk                               20 times\n",
      "Postgame                                 13 times\n",
      "1OT                                      1 times\n"
     ]
    }
   ],
   "source": [
    "periods = find_by_period(INPUT_FILEPATH)\n",
    "print(f\"Since {start_date}, the Duke University Pep Band has played by period:\")\n",
    "for song_name in sorted(periods, key=lambda x: -periods[x]):\n",
    "    print(f\"{song_name.ljust(BUFFER)} {periods[song_name]} times\")"
   ]
  }
 ],
 "metadata": {
  "kernelspec": {
   "display_name": ".venv",
   "language": "python",
   "name": "python3"
  },
  "language_info": {
   "codemirror_mode": {
    "name": "ipython",
    "version": 3
   },
   "file_extension": ".py",
   "mimetype": "text/x-python",
   "name": "python",
   "nbconvert_exporter": "python",
   "pygments_lexer": "ipython3",
   "version": "3.9.6"
  }
 },
 "nbformat": 4,
 "nbformat_minor": 2
}
