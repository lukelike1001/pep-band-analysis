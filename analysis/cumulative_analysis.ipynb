{
 "cells": [
  {
   "cell_type": "markdown",
   "metadata": {},
   "source": [
    "### **Cumulative Duke University Pep Band Analysis**"
   ]
  },
  {
   "cell_type": "markdown",
   "metadata": {},
   "source": [
    "**Importing Libraries**<br>\n",
    "Prior to running our code, we need to import libraries and our data files."
   ]
  },
  {
   "cell_type": "code",
   "execution_count": 33,
   "metadata": {},
   "outputs": [],
   "source": [
    "import pandas as pd\n",
    "import os"
   ]
  },
  {
   "cell_type": "markdown",
   "metadata": {},
   "source": [
    "**Importing Data**<br>\n",
    "Prior to running our code, we'll merge all the song data by combining them all into one file."
   ]
  },
  {
   "cell_type": "code",
   "execution_count": 34,
   "metadata": {},
   "outputs": [],
   "source": [
    "# access all the CSV files from the input data folder\n",
    "DATA_DIRECTORY = \"../data/\"\n",
    "OUTPUT_FILENAME = 'DUMB Pep Band Song Statistics - Cumulative.csv'\n",
    "dataframes = []\n",
    "\n",
    "# loop through the CSV files to create pandas dataframes of them\n",
    "for filename in os.listdir(DATA_DIRECTORY):\n",
    "    if filename.endswith(\".csv\"):\n",
    "        filepath = os.path.join(DATA_DIRECTORY, filename)\n",
    "        df = pd.read_csv(filepath)\n",
    "        dataframes.append(df)    \n",
    "        \n",
    "# merge the dataframes together and store the cumulative result\n",
    "merged_df = pd.concat(dataframes, ignore_index=True)\n",
    "merged_df.to_csv(os.path.join(DATA_DIRECTORY, OUTPUT_FILENAME), index=False)"
   ]
  },
  {
   "cell_type": "markdown",
   "metadata": {},
   "source": [
    "**Song Frequency**<br>\n",
    "Let's check how many times each song was played since records started in February 2024. First, we need to define a function that can find the song frequency."
   ]
  },
  {
   "cell_type": "code",
   "execution_count": 35,
   "metadata": {},
   "outputs": [],
   "source": [
    "\"\"\"\n",
    "find_song_frequency function\n",
    "\n",
    "Input:  input_path = String filepath of the Pep Band csv file\n",
    "Output: freqs      = Dictionary that tracks frequencies of all songs played\n",
    "\n",
    "\"\"\"\n",
    "def find_song_frequency(input_path: str):\n",
    "    \n",
    "    # store the frequencies of each song played in a dictionary\n",
    "    # where the key = song name, and value = frequency\n",
    "    freqs = dict()\n",
    "    \n",
    "    with open(input_path, \"r\") as input_file:\n",
    "        next(input_file, None) # skip the header\n",
    "        \n",
    "        for line in input_file:\n",
    "            row = line.split(\",\")\n",
    "            \n",
    "            # for each song, add it to the frequency\n",
    "            song = row[3]\n",
    "            if song not in freqs:\n",
    "                freqs[song] = 1\n",
    "            else:\n",
    "                freqs[song] += 1\n",
    "    \n",
    "    return freqs"
   ]
  },
  {
   "cell_type": "markdown",
   "metadata": {},
   "source": [
    "Now that we have defined the function, we can find the song statistics."
   ]
  },
  {
   "cell_type": "code",
   "execution_count": 36,
   "metadata": {},
   "outputs": [],
   "source": [
    "INPUT_FILEPATH = \"../data/DUMB Pep Band Song Statistics - Cumulative.csv\"\n",
    "freqs = find_song_frequency(INPUT_FILEPATH)"
   ]
  },
  {
   "cell_type": "markdown",
   "metadata": {},
   "source": [
    "We can first check how many songs we played in the entirety of February 2024."
   ]
  },
  {
   "cell_type": "code",
   "execution_count": 37,
   "metadata": {},
   "outputs": [
    {
     "name": "stdout",
     "output_type": "stream",
     "text": [
      "Since February 1, 2024, the Duke University Pep Band has played at least 325 times.\n"
     ]
    }
   ],
   "source": [
    "TOTAL_COUNT = sum(freqs.values())\n",
    "print(f\"Since February 1, 2024, the Duke University Pep Band has played at least {TOTAL_COUNT} times.\")"
   ]
  },
  {
   "cell_type": "markdown",
   "metadata": {},
   "source": [
    "After finding the total, let's break down the results by song name. I sort the results based in decreasing frequency."
   ]
  },
  {
   "cell_type": "code",
   "execution_count": 38,
   "metadata": {},
   "outputs": [],
   "source": [
    "# set a buffer for how many long all the \"song_name\" entries should be\n",
    "BUFFER = 30"
   ]
  },
  {
   "cell_type": "code",
   "execution_count": 39,
   "metadata": {},
   "outputs": [
    {
     "name": "stdout",
     "output_type": "stream",
     "text": [
      "Since February 1, 2024, the Duke University Pep Band has played:\n",
      "Blue & White                   35 times\n",
      "Can't                          33 times\n",
      "Devil                          24 times\n",
      "Fight Fight                    22 times\n",
      "Zing It!                       19 times\n",
      "Everytime                      13 times\n",
      "That's What I Want             12 times\n",
      "Dance the Night                11 times\n",
      "Love from the Other Side       10 times\n",
      "Runaway Baby                   9 times\n",
      "Pumpkin                        9 times\n",
      "Dear Old Duke                  9 times\n",
      "Overpass                       8 times\n",
      "Mortal                         8 times\n",
      "Sail                           8 times\n",
      "Uma Thurman                    8 times\n",
      "Spell                          7 times\n",
      "Wipeout                        7 times\n",
      "Lucky Strike                   7 times\n",
      "That That                      5 times\n",
      "Scream                         5 times\n",
      "About Damn Time                4 times\n",
      "Potential Breakup Song         4 times\n",
      "T. gogo                        4 times\n",
      "good 4 business                4 times\n",
      "Raise Your Glass               4 times\n",
      "Vehicle                        3 times\n",
      "D. Ditty                       3 times\n",
      "DJamite                        3 times\n",
      "Sucker                         3 times\n",
      "Somebody Told Me               3 times\n",
      "Love Runs Out                  3 times\n",
      "Stacy's Mom                    2 times\n",
      "Fat                            2 times\n",
      "Break Your Heart               2 times\n",
      "The Star-Spangled Banner       2 times\n",
      "Animal                         1 times\n",
      "Ms. Jackson                    1 times\n",
      "Fire                           1 times\n",
      "Chameleon                      1 times\n",
      "Igor's Theme                   1 times\n",
      "Disturbia                      1 times\n",
      "Crazy in Love                  1 times\n",
      "Get It On                      1 times\n",
      "Rock Lobster                   1 times\n",
      "Industry Baby                  1 times\n"
     ]
    }
   ],
   "source": [
    "print(f\"Since February 1, 2024, the Duke University Pep Band has played:\")\n",
    "for song_name in sorted(freqs, key=lambda x: -freqs[x]):\n",
    "    print(f\"{song_name.ljust(BUFFER)} {freqs[song_name]} times\")"
   ]
  },
  {
   "cell_type": "markdown",
   "metadata": {},
   "source": [
    "**FlipFolder Frequency**<br>\n",
    "Let's see what percentage of songs in the FlipFolder were played in February 2024. Note that \"D. Ditty\", \"t.gogo\" and \"Pumpkin\" are not considered FlipFolder songs, as they do not have FlipFolder entries."
   ]
  },
  {
   "cell_type": "code",
   "execution_count": 45,
   "metadata": {},
   "outputs": [],
   "source": [
    "TOTAL_FLIPFOLDER_SONGS = 96\n",
    "NON_FLIPFOLDER_SONGS = 3"
   ]
  },
  {
   "cell_type": "code",
   "execution_count": 46,
   "metadata": {},
   "outputs": [
    {
     "name": "stdout",
     "output_type": "stream",
     "text": [
      "43/96 songs in the FlipFolder have been played since February 1, 2024.\n"
     ]
    }
   ],
   "source": [
    "print(f\"{len(freqs.keys())-NON_FLIPFOLDER_SONGS}/{TOTAL_FLIPFOLDER_SONGS} songs in the FlipFolder have been played since February 1, 2024.\")"
   ]
  },
  {
   "cell_type": "markdown",
   "metadata": {},
   "source": [
    "**Fight vs Non-Fight Songs**<br>\n",
    "What percentage of the songs played were fight songs? The Duke University Pep Band has the following fight songs:\n",
    "\n",
    "- Fight Fight\n",
    "- Blue & White\n",
    "- Zing It!\n",
    "- Devil\n",
    "- Can't\n",
    "- Dear Old Duke\n"
   ]
  },
  {
   "cell_type": "markdown",
   "metadata": {},
   "source": [
    "We can identify fight songs using a set."
   ]
  },
  {
   "cell_type": "code",
   "execution_count": 42,
   "metadata": {},
   "outputs": [],
   "source": [
    "fight_songs = {\"Fight Fight\", \"Blue & White\", \"Zing It!\", \"Devil\", \"Can't\", \"Dear Old Duke\"}"
   ]
  },
  {
   "cell_type": "markdown",
   "metadata": {},
   "source": [
    "We can define a function to count the number of fight songs."
   ]
  },
  {
   "cell_type": "code",
   "execution_count": 43,
   "metadata": {},
   "outputs": [],
   "source": [
    "\"\"\"\n",
    "count_fight_songs function\n",
    "\n",
    "Input:  freqs       = Dictionary that tracks frequencies of all songs played\n",
    "        fight_songs = Set of fight song string names\n",
    "Output: count       = Integer representing fight song playing count\n",
    "\n",
    "\"\"\"\n",
    "def count_fight_songs(freqs: dict, fight_songs: set):\n",
    "    \n",
    "    # store the number of times that fights songs have been played\n",
    "    count = 0\n",
    "    \n",
    "    # go through each song in the frequency dict\n",
    "    for song_name in freqs:\n",
    "        if song_name in fight_songs:\n",
    "            count += freqs[song_name]\n",
    "    \n",
    "    # return the count once calculated\n",
    "    return count"
   ]
  },
  {
   "cell_type": "markdown",
   "metadata": {},
   "source": [
    "We can now check the number of times that fight songs were played."
   ]
  },
  {
   "cell_type": "code",
   "execution_count": 44,
   "metadata": {},
   "outputs": [
    {
     "name": "stdout",
     "output_type": "stream",
     "text": [
      "Since February 2024, 142/325 songs that were played were fight songs.\n"
     ]
    }
   ],
   "source": [
    "FIGHT_SONG_COUNT = count_fight_songs(freqs, fight_songs)\n",
    "TOTAL_COUNT = sum(freqs.values())\n",
    "\n",
    "print(f\"Since February 2024, {FIGHT_SONG_COUNT}/{TOTAL_COUNT} songs that were played were fight songs.\")"
   ]
  },
  {
   "cell_type": "markdown",
   "metadata": {},
   "source": [
    "From this, we can conclude that these 6 songs make up a whopping 142/325 (~43.69%) of the pieces played!"
   ]
  },
  {
   "cell_type": "markdown",
   "metadata": {},
   "source": [
    "**Songs by Date**<br>\n",
    "On what day was the least number of songs played? On what day was the most played?"
   ]
  },
  {
   "cell_type": "code",
   "execution_count": 67,
   "metadata": {},
   "outputs": [],
   "source": [
    "\"\"\"\n",
    "find_number_of_songs_by_date function\n",
    "\n",
    "Input:  input_path = String filepath of the Pep Band csv file\n",
    "Output: freqs      = Dictionary that tracks number of songs played by date\n",
    "\n",
    "\"\"\"\n",
    "def find_number_of_songs_by_date(input_path: str):\n",
    "    \n",
    "    # store the number of songs played by date\n",
    "    # where the key = game date, and value = number of songs played\n",
    "    dates = dict()\n",
    "    \n",
    "    # store the current date of records\n",
    "    curr_date = \"\"\n",
    "    \n",
    "    with open(input_path, \"r\") as input_file:\n",
    "        next(input_file, None) # skip the header\n",
    "        \n",
    "        for line in input_file:\n",
    "            row = line.split(\",\")\n",
    "            \n",
    "            # update dates if the value isn't null\n",
    "            if len(row[0]) > 0:\n",
    "                curr_date = \" \".join(row[0:3])\n",
    "            \n",
    "            # increase the number of songs played at that date\n",
    "            if curr_date not in dates:\n",
    "                dates[curr_date] = 1\n",
    "            else:\n",
    "                dates[curr_date] += 1\n",
    "    \n",
    "    return dates"
   ]
  },
  {
   "cell_type": "markdown",
   "metadata": {},
   "source": [
    "First, find the number of songs played on each date. Then, output the results by printing them."
   ]
  },
  {
   "cell_type": "code",
   "execution_count": 68,
   "metadata": {},
   "outputs": [],
   "source": [
    "dates = find_number_of_songs_by_date(INPUT_FILEPATH)"
   ]
  },
  {
   "cell_type": "code",
   "execution_count": 70,
   "metadata": {},
   "outputs": [
    {
     "name": "stdout",
     "output_type": "stream",
     "text": [
      "Since February 1, 2024, the Duke University Pep Band has played for these games:\n",
      "3/9 UNC MBB                    36 times\n",
      "2/7 Notre Dame MBB             31 times\n",
      "2/10 Boston College MBB        30 times\n",
      "2/28 Louisville MBB            30 times\n",
      "2/19 Notre Dame WBB            26 times\n",
      "2/11 UNC WBB                   25 times\n",
      "2/29 Virginia WBB              23 times\n",
      "2/8 Wake Forest WBB            22 times\n",
      "3/7 Georgia Tech WBB           20 times\n",
      "3/24 JMU MBB                   19 times\n",
      "3/14 NC State MBB              17 times\n",
      "3/31 NC State MBB              17 times\n",
      "3/22 Vermont MBB               16 times\n",
      "3/29 Houston MBB               13 times\n"
     ]
    }
   ],
   "source": [
    "print(f\"Since February 1, 2024, the Duke University Pep Band has played for these games:\")\n",
    "for curr_date in sorted(dates, key=lambda x: -dates[x]):\n",
    "    print(f\"{curr_date.ljust(BUFFER)} {dates[curr_date]} times\")"
   ]
  },
  {
   "cell_type": "code",
   "execution_count": null,
   "metadata": {},
   "outputs": [],
   "source": [
    "sum(dates.values()) / len(dates.keys())"
   ]
  }
 ],
 "metadata": {
  "kernelspec": {
   "display_name": ".venv",
   "language": "python",
   "name": "python3"
  },
  "language_info": {
   "codemirror_mode": {
    "name": "ipython",
    "version": 3
   },
   "file_extension": ".py",
   "mimetype": "text/x-python",
   "name": "python",
   "nbconvert_exporter": "python",
   "pygments_lexer": "ipython3",
   "version": "3.9.6"
  }
 },
 "nbformat": 4,
 "nbformat_minor": 2
}
