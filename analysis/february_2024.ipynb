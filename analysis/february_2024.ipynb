{
 "cells": [
  {
   "cell_type": "markdown",
   "metadata": {},
   "source": [
    "### **February 2024 Duke University Pep Band Analysis**"
   ]
  },
  {
   "cell_type": "markdown",
   "metadata": {},
   "source": [
    "**Importing Libraries**<br>\n",
    "Prior to running our code, we need to import libraries and our data files."
   ]
  },
  {
   "cell_type": "code",
   "execution_count": 1,
   "metadata": {},
   "outputs": [],
   "source": [
    "import pandas as pd"
   ]
  },
  {
   "cell_type": "markdown",
   "metadata": {},
   "source": [
    "**Song Frequency**<br>\n",
    "Let's check how many times each song was played in February 2024. First, we need to define a function that can find the song frequency."
   ]
  },
  {
   "cell_type": "code",
   "execution_count": 2,
   "metadata": {},
   "outputs": [],
   "source": [
    "\"\"\"\n",
    "find_song_frequency function\n",
    "\n",
    "Input:  input_path = String filepath of the Pep Band csv file\n",
    "Output: freqs      = Dictionary that tracks frequencies of all songs played\n",
    "\n",
    "\"\"\"\n",
    "def find_song_frequency(input_path: str):\n",
    "    \n",
    "    # store the frequencies of each song played in a dictionary\n",
    "    # where the key = song name, and value = frequency\n",
    "    freqs = dict()\n",
    "    \n",
    "    with open(input_path, \"r\") as input_file:\n",
    "        next(input_file, None) # skip the header\n",
    "        \n",
    "        for line in input_file:\n",
    "            row = line.split(\",\")\n",
    "            \n",
    "            # for each song, add it to the frequency\n",
    "            song = row[3]\n",
    "            if song not in freqs:\n",
    "                freqs[song] = 1\n",
    "            else:\n",
    "                freqs[song] += 1\n",
    "    \n",
    "    return freqs"
   ]
  },
  {
   "cell_type": "markdown",
   "metadata": {},
   "source": [
    "Now that we have defined the function, we can find the song statistics."
   ]
  },
  {
   "cell_type": "code",
   "execution_count": 3,
   "metadata": {},
   "outputs": [],
   "source": [
    "INPUT_FILEPATH = \"../data/DUMB Pep Band Song Statistics - February 2024.csv\"\n",
    "freqs = find_song_frequency(INPUT_FILEPATH)"
   ]
  },
  {
   "cell_type": "markdown",
   "metadata": {},
   "source": [
    "After calling the function, let's print the results. I sort the results based in decreasing frequency."
   ]
  },
  {
   "cell_type": "code",
   "execution_count": 4,
   "metadata": {},
   "outputs": [
    {
     "name": "stdout",
     "output_type": "stream",
     "text": [
      "In February 2024, the Duke University Pep Band has played:\n",
      "\"Can't\" 11 times\n",
      "\"Devil\" 10 times\n",
      "\"Blue & White\" 9 times\n",
      "\"Zing It!\" 9 times\n",
      "\"Fight Fight\" 6 times\n",
      "\"That's What I Want\" 5 times\n",
      "\"Mortal\" 5 times\n",
      "\"Everytime\" 5 times\n",
      "\"Dear Old Duke\" 5 times\n",
      "\"Love from the Other Side\" 4 times\n",
      "\"Dance the Night\" 4 times\n",
      "\"Spell\" 4 times\n",
      "\"Sail\" 4 times\n",
      "\"Wipeout\" 4 times\n",
      "\"Uma Thurman\" 4 times\n",
      "\"Pumpkin\" 4 times\n",
      "\"Lucky Strike\" 4 times\n",
      "\"Potential Breakup Song\" 3 times\n",
      "\"Runaway Baby\" 3 times\n",
      "\"T. gogo\" 3 times\n",
      "\"DJamite\" 3 times\n",
      "\"That That\" 3 times\n",
      "\"About Damn Time\" 2 times\n",
      "\"D. Ditty\" 2 times\n",
      "\"Sucker\" 2 times\n",
      "\"Somebody Told Me\" 2 times\n",
      "\"Scream\" 2 times\n",
      "\"Overpass\" 1 times\n",
      "\"Animal\" 1 times\n",
      "\"Vehicle\" 1 times\n",
      "\"Ms. Jackson\" 1 times\n",
      "\"Fire\" 1 times\n",
      "\"Chameleon\" 1 times\n",
      "\"Stacy's Mom\" 1 times\n",
      "\"Fat\" 1 times\n",
      "\"good 4 business\" 1 times\n",
      "\"Igor's Theme\" 1 times\n",
      "\"Love Runs Out\" 1 times\n",
      "\"Raise Your Glass\" 1 times\n"
     ]
    }
   ],
   "source": [
    "print(f\"In February 2024, the Duke University Pep Band has played:\")\n",
    "for song_name in sorted(freqs, key=lambda x: -freqs[x]):\n",
    "    print(f\"{song_name} --> {freqs[song_name]} times\")"
   ]
  }
 ],
 "metadata": {
  "kernelspec": {
   "display_name": ".venv",
   "language": "python",
   "name": "python3"
  },
  "language_info": {
   "codemirror_mode": {
    "name": "ipython",
    "version": 3
   },
   "file_extension": ".py",
   "mimetype": "text/x-python",
   "name": "python",
   "nbconvert_exporter": "python",
   "pygments_lexer": "ipython3",
   "version": "3.9.6"
  }
 },
 "nbformat": 4,
 "nbformat_minor": 2
}
